{
 "cells": [
  {
   "cell_type": "code",
   "execution_count": 1,
   "metadata": {},
   "outputs": [],
   "source": [
    "import game_v2"
   ]
  },
  {
   "cell_type": "code",
   "execution_count": 2,
   "metadata": {},
   "outputs": [
    {
     "name": "stdout",
     "output_type": "stream",
     "text": [
      "Ваш алгоритм угадывает число в среднем за: 101 попыток\n"
     ]
    },
    {
     "data": {
      "text/plain": [
       "101"
      ]
     },
     "execution_count": 2,
     "metadata": {},
     "output_type": "execute_result"
    }
   ],
   "source": [
    "game_v2.score_game(game_v2.random_predict)"
   ]
  },
  {
   "cell_type": "code",
   "execution_count": 3,
   "metadata": {},
   "outputs": [],
   "source": [
    "from game_v2 import score_game\n",
    "from game_v2 import random_predict"
   ]
  },
  {
   "cell_type": "code",
   "execution_count": 4,
   "metadata": {},
   "outputs": [
    {
     "name": "stdout",
     "output_type": "stream",
     "text": [
      "Ваш алгоритм угадывает число в среднем за: 101 попыток\n"
     ]
    },
    {
     "data": {
      "text/plain": [
       "101"
      ]
     },
     "execution_count": 4,
     "metadata": {},
     "output_type": "execute_result"
    }
   ],
   "source": [
    "score_game(random_predict) #вызов функции"
   ]
  },
  {
   "cell_type": "code",
   "execution_count": 80,
   "metadata": {},
   "outputs": [
    {
     "name": "stdout",
     "output_type": "stream",
     "text": [
      "[[[ 60  79  11  21  15]\n",
      "  [ 89  26   6  34  44]\n",
      "  [ 62  19  67  40  43]\n",
      "  [ 54  32   8  74  33]\n",
      "  [ 52  24  65  80  53]]\n",
      "\n",
      " [[ 60  92  93  82  30]\n",
      "  [ 35  63  43  18  86]\n",
      "  [ 40 100  97  99   4]\n",
      "  [ 33  70  94   9  44]\n",
      "  [ 13  52  88  23  67]]\n",
      "\n",
      " [[ 66 100  97  83  64]\n",
      "  [ 15   9  41  88  38]\n",
      "  [  4  47  61  24  34]\n",
      "  [ 84  50  56  73  32]\n",
      "  [ 81  63  11  17  76]]]\n"
     ]
    }
   ],
   "source": [
    "import numpy as np\n",
    "\n",
    "def get_unique_loto(num):\n",
    "    \n",
    "    res = list()\n",
    "    for i in range(num):\n",
    "        res.append(np.random.choice(np.arange(1, 101), replace=False, size=(5, 5)))\n",
    "    res = np.array(res)\n",
    "    return res\n",
    "\n",
    "result = get_unique_loto(3)\n",
    "print(result)"
   ]
  }
 ],
 "metadata": {
  "interpreter": {
   "hash": "7f9171b8c1054eb11eace701c6df237cd904c22b24e4c34ca498249fd2eab90d"
  },
  "kernelspec": {
   "display_name": "Python 3.9.10 64-bit",
   "language": "python",
   "name": "python3"
  },
  "language_info": {
   "codemirror_mode": {
    "name": "ipython",
    "version": 3
   },
   "file_extension": ".py",
   "mimetype": "text/x-python",
   "name": "python",
   "nbconvert_exporter": "python",
   "pygments_lexer": "ipython3",
   "version": "3.9.10"
  },
  "orig_nbformat": 4
 },
 "nbformat": 4,
 "nbformat_minor": 2
}
